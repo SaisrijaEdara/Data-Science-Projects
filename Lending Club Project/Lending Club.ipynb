{
 "cells": [
  {
   "cell_type": "markdown",
   "metadata": {},
   "source": [
    "Objective: Can we build a machine learning model that can accurately predict if a borrower will pay off their loan on time or not?"
   ]
  },
  {
   "cell_type": "code",
   "execution_count": 1,
   "metadata": {
    "collapsed": false
   },
   "outputs": [],
   "source": [
    "import pandas as pd\n",
    "loans_2007 = pd.read_csv('LoanStats3a.csv', skiprows=1,low_memory = False)\n",
    "loans_2007 = loans_2007.drop(['desc', 'url'],axis=1)\n",
    "half_count = len(loans_2007) / 2\n",
    "loans_2007 = loans_2007.dropna(thresh=half_count, axis=1)"
   ]
  },
  {
   "cell_type": "code",
   "execution_count": 2,
   "metadata": {
    "collapsed": false
   },
   "outputs": [
    {
     "name": "stdout",
     "output_type": "stream",
     "text": [
      "        id  member_id  loan_amnt  funded_amnt  funded_amnt_inv        term  \\\n",
      "0  1077501  1296599.0     5000.0       5000.0           4975.0   36 months   \n",
      "\n",
      "  int_rate  installment grade sub_grade    ...    last_pymnt_amnt  \\\n",
      "0   10.65%       162.87     B        B2    ...             171.62   \n",
      "\n",
      "  last_credit_pull_d collections_12_mths_ex_med  policy_code application_type  \\\n",
      "0           Jan-2017                        0.0          1.0       INDIVIDUAL   \n",
      "\n",
      "  acc_now_delinq chargeoff_within_12_mths delinq_amnt pub_rec_bankruptcies  \\\n",
      "0            0.0                      0.0         0.0                  0.0   \n",
      "\n",
      "  tax_liens  \n",
      "0       0.0  \n",
      "\n",
      "[1 rows x 52 columns]\n",
      "Index(['id', 'member_id', 'loan_amnt', 'funded_amnt', 'funded_amnt_inv',\n",
      "       'term', 'int_rate', 'installment', 'grade', 'sub_grade', 'emp_title',\n",
      "       'emp_length', 'home_ownership', 'annual_inc', 'verification_status',\n",
      "       'issue_d', 'loan_status', 'pymnt_plan', 'purpose', 'title', 'zip_code',\n",
      "       'addr_state', 'dti', 'delinq_2yrs', 'earliest_cr_line',\n",
      "       'inq_last_6mths', 'open_acc', 'pub_rec', 'revol_bal', 'revol_util',\n",
      "       'total_acc', 'initial_list_status', 'out_prncp', 'out_prncp_inv',\n",
      "       'total_pymnt', 'total_pymnt_inv', 'total_rec_prncp', 'total_rec_int',\n",
      "       'total_rec_late_fee', 'recoveries', 'collection_recovery_fee',\n",
      "       'last_pymnt_d', 'last_pymnt_amnt', 'last_credit_pull_d',\n",
      "       'collections_12_mths_ex_med', 'policy_code', 'application_type',\n",
      "       'acc_now_delinq', 'chargeoff_within_12_mths', 'delinq_amnt',\n",
      "       'pub_rec_bankruptcies', 'tax_liens'],\n",
      "      dtype='object')\n"
     ]
    }
   ],
   "source": [
    "print(loans_2007.head(1))\n",
    "print(loans_2007.columns)"
   ]
  },
  {
   "cell_type": "markdown",
   "metadata": {},
   "source": [
    "After analyzing each column, we can conclude that the following features need to be removed:\n",
    "\n",
    "* id: randomly generated field by Lending Club for unique identification purposes only\n",
    "* member_id: also a randomly generated field by Lending Club for unique identification purposes only\n",
    "* funded_amnt: leaks data from the future (after the loan is already started to be funded)\n",
    "* funded_amnt_inv: also leaks data from the future (after the loan is already started to be funded)\n",
    "* grade: contains redundant information as the interest rate column (int_rate)\n",
    "* sub_grade: also contains redundant information as the interest rate column (int_rate)\n",
    "* emp_title: requires other data and a lot of processing to potentially be useful\n",
    "* issue_d: leaks data from the future (after the loan is already completed funded)\n",
    "* zip_code: redundant with the addr_state column since only the first 3 digits of the 5 digit zip code are visible (which only can be used to identify the state the borrower lives in)\n",
    "* out_prncp: leaks data from the future, (after the loan already started to be paid off)\n",
    "* out_prncp_inv: also leaks data from the future, (after the loan already started to be paid off)\n",
    "* total_pymnt: also leaks data from the future, (after the loan already started to be paid off)\n",
    "* total_pymnt_inv: also leaks data from the future, (after the loan already started to be paid off)\n",
    "* total_rec_prncp: also leaks data from the future, (after the loan already started to be paid off)\n",
    "* total_rec_int: leaks data from the future, (after the loan already started to be paid off),\n",
    "* total_rec_late_fee: also leaks data from the future, (after the loan already started to be paid off),\n",
    "* recoveries: also leaks data from the future, (after the loan already started to be paid off),\n",
    "* collection_recovery_fee: also leaks data from the future, (after the loan already started to be paid off),\n",
    "* last_pymnt_d: also leaks data from the future, (after the loan already started to be paid off),\n",
    "* last_pymnt_amnt: also leaks data from the future, (after the loan already started to be paid off).\n",
    "\n",
    "Recall that Lending Club assigns a grade and a sub-grade based on the borrower's interest rate. While the grade and sub_grade values are categorical, the int_rate column contains continuous values, which are better suited for machine learning. The out_prncp and out_prncp_inv both describe the outstanding principal amount for a loan, which is the remaining amount the borrower still owes. These 2 columns as well as the total_pymnt column describe properties of the loan after it's fully funded and started to be paid off. This information isn't available to an investor before the loan is fully funded and we don't want to include it in our model. All of these columns leak data from the future, meaning that they're describing aspects of the loan after it's already been fully funded and started to be paid off by the borrower."
   ]
  },
  {
   "cell_type": "code",
   "execution_count": 3,
   "metadata": {
    "collapsed": false
   },
   "outputs": [
    {
     "name": "stdout",
     "output_type": "stream",
     "text": [
      "loan_amnt                            5000\n",
      "term                            36 months\n",
      "int_rate                           10.65%\n",
      "installment                        162.87\n",
      "emp_length                      10+ years\n",
      "home_ownership                       RENT\n",
      "annual_inc                          24000\n",
      "verification_status              Verified\n",
      "loan_status                    Fully Paid\n",
      "pymnt_plan                              n\n",
      "purpose                       credit_card\n",
      "title                            Computer\n",
      "addr_state                             AZ\n",
      "dti                                 27.65\n",
      "delinq_2yrs                             0\n",
      "earliest_cr_line                 Jan-1985\n",
      "inq_last_6mths                          1\n",
      "open_acc                                3\n",
      "pub_rec                                 0\n",
      "revol_bal                           13648\n",
      "revol_util                          83.7%\n",
      "total_acc                               9\n",
      "initial_list_status                     f\n",
      "last_credit_pull_d               Jan-2017\n",
      "collections_12_mths_ex_med              0\n",
      "policy_code                             1\n",
      "application_type               INDIVIDUAL\n",
      "acc_now_delinq                          0\n",
      "chargeoff_within_12_mths                0\n",
      "delinq_amnt                             0\n",
      "pub_rec_bankruptcies                    0\n",
      "tax_liens                               0\n",
      "Name: 0, dtype: object\n",
      "32\n"
     ]
    }
   ],
   "source": [
    "loans_2007 = loans_2007.drop(['id','member_id','funded_amnt','funded_amnt_inv','grade','sub_grade','emp_title',\n",
    "                              'issue_d'],axis = 1)\n",
    "loans_2007 = loans_2007.drop(['zip_code','out_prncp','out_prncp_inv','total_pymnt','total_pymnt_inv',\n",
    "                             'total_rec_prncp'],axis = 1)\n",
    "loans_2007 = loans_2007.drop([\"total_rec_int\", \"total_rec_late_fee\", \"recoveries\", \"collection_recovery_fee\", \"last_pymnt_d\", \"last_pymnt_amnt\"], axis=1)\n",
    "print(loans_2007.iloc[0])\n",
    "print(loans_2007.shape[1])"
   ]
  },
  {
   "cell_type": "code",
   "execution_count": 4,
   "metadata": {
    "collapsed": false
   },
   "outputs": [
    {
     "name": "stdout",
     "output_type": "stream",
     "text": [
      "Fully Paid                                             34108\n",
      "Charged Off                                             5662\n",
      "Does not meet the credit policy. Status:Fully Paid      1988\n",
      "Does not meet the credit policy. Status:Charged Off      761\n",
      "Late (31-120 days)                                        10\n",
      "Current                                                    3\n",
      "In Grace Period                                            1\n",
      "Late (16-30 days)                                          1\n",
      "Default                                                    1\n",
      "Name: loan_status, dtype: int64\n"
     ]
    }
   ],
   "source": [
    "print(loans_2007['loan_status'].value_counts())"
   ]
  },
  {
   "cell_type": "markdown",
   "metadata": {},
   "source": [
    "From the investor's perspective, we're interested in trying to predict which loans will be paid off on time and which ones won't be. Only the Fully Paid and Charged Off values describe the final outcome of the loan. The other values describe loans that are still on going and where the jury is still out on if the borrower will pay back the loan on time or not. While the Default status resembles the Charged Off status, in Lending Club's eyes, loans that are charged off have essentially no chance of being repaid while default ones have a small chance. <br/>\n",
    "Since we're interesting in being able to predict which of these 2 values a loan will fall under, we can treat the problem as a binary classification one. Let's remove all the loans that don't contain either Fully Paid and Charged Off as the loan's status and then transform the Fully Paid values to 1 for the positive case and the Charged Off values to 0 for the negative case. "
   ]
  },
  {
   "cell_type": "markdown",
   "metadata": {},
   "source": [
    "Lastly, one thing we need to keep in mind is the class imbalance between the positive and negative cases. While there are 33,136 loans that have been fully paid off, there are only 5,634 that were charged off. This class imbalance is a common problem in binary classification and during training, the model ends up having a strong bias towards predicting the class with more observations in the training set and will rarely predict the class with less observations. The stronger the imbalance, the more biased the model becomes."
   ]
  },
  {
   "cell_type": "code",
   "execution_count": 5,
   "metadata": {
    "collapsed": true
   },
   "outputs": [],
   "source": [
    "vals = ['Fully Paid','Charged Off']\n",
    "loans_2007 = loans_2007[loans_2007['loan_status'].isin(vals)]\n",
    "mapping = {'loan_status':{'Fully Paid':1,'Charged Off': 0}}\n",
    "loans_2007 = loans_2007.replace(mapping)"
   ]
  },
  {
   "cell_type": "markdown",
   "metadata": {},
   "source": [
    "### Removing Single Value Columns"
   ]
  },
  {
   "cell_type": "code",
   "execution_count": 6,
   "metadata": {
    "collapsed": false
   },
   "outputs": [
    {
     "name": "stdout",
     "output_type": "stream",
     "text": [
      "['pymnt_plan', 'initial_list_status', 'collections_12_mths_ex_med', 'policy_code', 'application_type', 'acc_now_delinq', 'chargeoff_within_12_mths', 'delinq_amnt', 'tax_liens']\n"
     ]
    }
   ],
   "source": [
    "drop_columns = []\n",
    "for col in loans_2007.columns:\n",
    "    col_series = loans_2007[col].dropna().unique()\n",
    "    if len(col_series) == 1:\n",
    "        drop_columns.append(col)\n",
    "loans_2007 = loans_2007.drop(drop_columns, axis=1)\n",
    "print(drop_columns)"
   ]
  },
  {
   "cell_type": "code",
   "execution_count": 7,
   "metadata": {
    "collapsed": false
   },
   "outputs": [
    {
     "name": "stdout",
     "output_type": "stream",
     "text": [
      "loan_amnt                 0\n",
      "term                      0\n",
      "int_rate                  0\n",
      "installment               0\n",
      "emp_length                0\n",
      "home_ownership            0\n",
      "annual_inc                0\n",
      "verification_status       0\n",
      "loan_status               0\n",
      "purpose                   0\n",
      "title                    10\n",
      "addr_state                0\n",
      "dti                       0\n",
      "delinq_2yrs               0\n",
      "earliest_cr_line          0\n",
      "inq_last_6mths            0\n",
      "open_acc                  0\n",
      "pub_rec                   0\n",
      "revol_bal                 0\n",
      "revol_util               50\n",
      "total_acc                 0\n",
      "last_credit_pull_d        2\n",
      "pub_rec_bankruptcies    697\n",
      "dtype: int64\n"
     ]
    }
   ],
   "source": [
    "loans = loans_2007\n",
    "null_counts = loans.isnull().sum()\n",
    "print(null_counts)"
   ]
  },
  {
   "cell_type": "markdown",
   "metadata": {},
   "source": [
    "### Handling Missing Values\n",
    "\n",
    "While most of the columns have 0 missing values, 2 columns have 50 or less rows with missing values, and 1 column, pub_rec_bankruptcies, contains 697 rows with missing values. Let's remove columns entirely where more than 1% of the rows for that column contain a null value. In addition, we'll remove the remaining rows containing null values."
   ]
  },
  {
   "cell_type": "code",
   "execution_count": 8,
   "metadata": {
    "collapsed": false
   },
   "outputs": [
    {
     "name": "stdout",
     "output_type": "stream",
     "text": [
      "object     11\n",
      "float64    10\n",
      "int64       1\n",
      "dtype: int64\n",
      "         term int_rate emp_length home_ownership verification_status  \\\n",
      "0   36 months   10.65%  10+ years           RENT            Verified   \n",
      "\n",
      "       purpose     title addr_state earliest_cr_line revol_util  \\\n",
      "0  credit_card  Computer         AZ         Jan-1985      83.7%   \n",
      "\n",
      "  last_credit_pull_d  \n",
      "0           Jan-2017  \n"
     ]
    }
   ],
   "source": [
    "loans = loans.drop('pub_rec_bankruptcies',axis = 1)\n",
    "loans = loans.dropna()\n",
    "print(loans.dtypes.value_counts())\n",
    "object_columns_df = loans.select_dtypes(include=['object'])\n",
    "print(object_columns_df.head(1))"
   ]
  },
  {
   "cell_type": "markdown",
   "metadata": {},
   "source": [
    "### Converting Text Columns\n",
    "\n",
    "Some of the columns seem like they represent categorical values, but we should confirm by checking the number of unique values in those columns:\n",
    "\n",
    "* home_ownership: home ownership status, can only be 1 of 4 categorical values according to the data dictionary,\n",
    "* verification_status: indicates if income was verified by Lending Club,\n",
    "* emp_length: number of years the borrower was employed upon time of application,\n",
    "* term: number of payments on the loan, either 36 or 60,\n",
    "* addr_state: borrower's state of residence,\n",
    "* purpose: a category provided by the borrower for the loan request,\n",
    "* title: loan title provided the borrower,"
   ]
  },
  {
   "cell_type": "code",
   "execution_count": 9,
   "metadata": {
    "collapsed": false
   },
   "outputs": [
    {
     "name": "stdout",
     "output_type": "stream",
     "text": [
      "RENT        18874\n",
      "MORTGAGE    17680\n",
      "OWN          3055\n",
      "OTHER          96\n",
      "NONE            3\n",
      "Name: home_ownership, dtype: int64\n",
      "Not Verified       16888\n",
      "Verified           12825\n",
      "Source Verified     9995\n",
      "Name: verification_status, dtype: int64\n",
      "10+ years    8891\n",
      "< 1 year     4575\n",
      "2 years      4389\n",
      "3 years      4093\n",
      "4 years      3434\n",
      "5 years      3279\n",
      "1 year       3239\n",
      "6 years      2225\n",
      "7 years      1770\n",
      "8 years      1481\n",
      "9 years      1259\n",
      "n/a          1073\n",
      "Name: emp_length, dtype: int64\n",
      " 36 months    29041\n",
      " 60 months    10667\n",
      "Name: term, dtype: int64\n",
      "CA    7093\n",
      "NY    3813\n",
      "FL    2868\n",
      "TX    2728\n",
      "NJ    1846\n",
      "IL    1524\n",
      "PA    1515\n",
      "VA    1407\n",
      "GA    1399\n",
      "MA    1343\n",
      "OH    1221\n",
      "MD    1053\n",
      "AZ     877\n",
      "WA     841\n",
      "CO     791\n",
      "NC     787\n",
      "CT     754\n",
      "MI     722\n",
      "MO     685\n",
      "MN     613\n",
      "NV     497\n",
      "SC     472\n",
      "WI     459\n",
      "AL     450\n",
      "OR     449\n",
      "LA     436\n",
      "KY     327\n",
      "OK     299\n",
      "KS     271\n",
      "UT     259\n",
      "AR     245\n",
      "DC     212\n",
      "RI     199\n",
      "NM     189\n",
      "WV     177\n",
      "HI     173\n",
      "NH     172\n",
      "DE     113\n",
      "MT      85\n",
      "WY      83\n",
      "AK      80\n",
      "SD      63\n",
      "VT      54\n",
      "MS      19\n",
      "TN      17\n",
      "IN       9\n",
      "ID       6\n",
      "IA       5\n",
      "NE       5\n",
      "ME       3\n",
      "Name: addr_state, dtype: int64\n"
     ]
    }
   ],
   "source": [
    "cols = ['home_ownership', 'verification_status', 'emp_length', 'term', 'addr_state']\n",
    "for col in cols:\n",
    "    print(loans[col].value_counts())"
   ]
  },
  {
   "cell_type": "code",
   "execution_count": 10,
   "metadata": {
    "collapsed": false
   },
   "outputs": [
    {
     "name": "stdout",
     "output_type": "stream",
     "text": [
      "debt_consolidation    18650\n",
      "credit_card            5133\n",
      "other                  3984\n",
      "home_improvement       2980\n",
      "major_purchase         2182\n",
      "small_business         1824\n",
      "car                    1549\n",
      "wedding                 947\n",
      "medical                 693\n",
      "moving                  581\n",
      "house                   382\n",
      "vacation                380\n",
      "educational             320\n",
      "renewable_energy        103\n",
      "Name: purpose, dtype: int64\n",
      "Debt Consolidation                              2188\n",
      "Debt Consolidation Loan                         1729\n",
      "Personal Loan                                    661\n",
      "Consolidation                                    516\n",
      "debt consolidation                               508\n",
      "Home Improvement                                 357\n",
      "Credit Card Consolidation                        357\n",
      "Debt consolidation                               334\n",
      "Small Business Loan                              328\n",
      "Credit Card Loan                                 319\n",
      "Personal                                         309\n",
      "Consolidation Loan                               256\n",
      "Home Improvement Loan                            249\n",
      "personal loan                                    234\n",
      "personal                                         220\n",
      "Loan                                             213\n",
      "Wedding Loan                                     209\n",
      "consolidation                                    205\n",
      "Car Loan                                         204\n",
      "Other Loan                                       192\n",
      "Credit Card Payoff                               155\n",
      "Wedding                                          154\n",
      "Major Purchase Loan                              145\n",
      "Credit Card Refinance                            144\n",
      "Consolidate                                      127\n",
      "Medical                                          122\n",
      "Credit Card                                      119\n",
      "home improvement                                 112\n",
      "My Loan                                           94\n",
      "Credit Cards                                      93\n",
      "                                                ... \n",
      "CR Card Payoff                                     1\n",
      "to pay off debt                                    1\n",
      "Philadelphia Moving Loan                           1\n",
      "Long Due Vacation!                                 1\n",
      "Old college and recent moving expenses             1\n",
      "Bring down a LOC to a lower rate                   1\n",
      "CONSOLIDATIONS                                     1\n",
      "1999 Audi A4 Quattro                               1\n",
      "Promotional Products Business                      1\n",
      "Rock Consolidate                                   1\n",
      "Pay off high intrest                               1\n",
      "DNA Loan consolidation                             1\n",
      "BusinessCapital Infusion                           1\n",
      "Soild Investment Loan                              1\n",
      "CC repayment                                       1\n",
      "amanda                                             1\n",
      "new air conditioner and stair railing              1\n",
      "Down Payment to help a DC guy get his start.       1\n",
      "Debt Elimination Program                           1\n",
      "Don's loan                                         1\n",
      "Elizabeths New Bathroom                            1\n",
      "Higher interest payoff                             1\n",
      "Bank of america credit card debt                   1\n",
      "Moving and Marriage                                1\n",
      "blazer                                             1\n",
      "Cash_Flow                                          1\n",
      "heather's getting back on track loan               1\n",
      "Project 2010                                       1\n",
      "Rob                                                1\n",
      "Small Business Financing                           1\n",
      "Name: title, dtype: int64\n"
     ]
    }
   ],
   "source": [
    "print(loans['purpose'].value_counts())\n",
    "print(loans['title'].value_counts())"
   ]
  },
  {
   "cell_type": "code",
   "execution_count": 11,
   "metadata": {
    "collapsed": true
   },
   "outputs": [],
   "source": [
    "mapping_dict = {\n",
    "    \"emp_length\": {\n",
    "        \"10+ years\": 10,\n",
    "        \"9 years\": 9,\n",
    "        \"8 years\": 8,\n",
    "        \"7 years\": 7,\n",
    "        \"6 years\": 6,\n",
    "        \"5 years\": 5,\n",
    "        \"4 years\": 4,\n",
    "        \"3 years\": 3,\n",
    "        \"2 years\": 2,\n",
    "        \"1 year\": 1,\n",
    "        \"< 1 year\": 0,\n",
    "        \"n/a\": 0\n",
    "    }\n",
    "}\n",
    "loans = loans.drop(['earliest_cr_line','addr_state','title','last_credit_pull_d'],axis = 1)\n",
    "loans = loans.replace(mapping_dict)\n",
    "loans[\"int_rate\"] = loans[\"int_rate\"].str.rstrip(\"%\").astype(\"float\")\n",
    "loans[\"revol_util\"] = loans[\"revol_util\"].str.rstrip(\"%\").astype(\"float\")"
   ]
  },
  {
   "cell_type": "code",
   "execution_count": 12,
   "metadata": {
    "collapsed": true
   },
   "outputs": [],
   "source": [
    "cat_columns = [\"home_ownership\", \"verification_status\", \"emp_length\", \"purpose\", \"term\"]\n",
    "dummy_df = pd.get_dummies(loans[cat_columns])\n",
    "loans = pd.concat([loans, dummy_df], axis=1)\n",
    "loans = loans.drop(cat_columns, axis=1)"
   ]
  },
  {
   "cell_type": "code",
   "execution_count": 13,
   "metadata": {
    "collapsed": false
   },
   "outputs": [],
   "source": [
    "from sklearn.linear_model import LogisticRegression\n",
    "lr = LogisticRegression()\n",
    "cols = list(loans.columns)\n",
    "cols.remove('loan_status')\n",
    "features = loans[cols]\n",
    "target = loans['loan_status']\n",
    "lr.fit(features,target)\n",
    "predictions = lr.predict(features)"
   ]
  },
  {
   "cell_type": "markdown",
   "metadata": {},
   "source": [
    "### Cross Validation"
   ]
  },
  {
   "cell_type": "code",
   "execution_count": 14,
   "metadata": {
    "collapsed": false
   },
   "outputs": [
    {
     "name": "stdout",
     "output_type": "stream",
     "text": [
      "0.998757543485978 0.9992940345923049\n"
     ]
    }
   ],
   "source": [
    "from sklearn.linear_model import LogisticRegression\n",
    "from sklearn.model_selection import cross_val_predict, KFold\n",
    "lr = LogisticRegression()\n",
    "kf = KFold(random_state=1)\n",
    "predictions = cross_val_predict(lr, features, target, cv=kf)\n",
    "predictions = pd.Series(predictions)\n",
    "\n",
    "tn = len(predictions[(predictions == 0) & (loans['loan_status']==0)])\n",
    "tp = len(predictions[(predictions == 1) & (loans['loan_status']==1)])\n",
    "fn = len(predictions[(predictions == 0) & (loans['loan_status']==1)])\n",
    "fp = len(predictions[(predictions == 1) & (loans[\"loan_status\"] == 0)])\n",
    "fpr = (fp/(fp+tn))\n",
    "tpr = (tp/(tp+fn))\n",
    "print(fpr,tpr)"
   ]
  },
  {
   "cell_type": "markdown",
   "metadata": {},
   "source": [
    "### Penalizing The Classifier"
   ]
  },
  {
   "cell_type": "code",
   "execution_count": 15,
   "metadata": {
    "collapsed": false
   },
   "outputs": [
    {
     "name": "stdout",
     "output_type": "stream",
     "text": [
      "0.6167909123180688 0.6203671020120014\n"
     ]
    }
   ],
   "source": [
    "lr = LogisticRegression(class_weight = 'balanced')\n",
    "predictions = cross_val_predict(lr, features, target, cv=kf)\n",
    "predictions = pd.Series(predictions)\n",
    "\n",
    "tn = len(predictions[(predictions == 0) & (loans['loan_status']==0)])\n",
    "tp = len(predictions[(predictions == 1) & (loans['loan_status']==1)])\n",
    "fn = len(predictions[(predictions == 0) & (loans['loan_status']==1)])\n",
    "fp = len(predictions[(predictions == 1) & (loans[\"loan_status\"] == 0)])\n",
    "fpr = (fp/(fp+tn))\n",
    "tpr = (tp/(tp+fn))\n",
    "print(fpr,tpr)"
   ]
  },
  {
   "cell_type": "markdown",
   "metadata": {},
   "source": [
    "### Manual Penalties"
   ]
  },
  {
   "cell_type": "code",
   "execution_count": 16,
   "metadata": {
    "collapsed": false
   },
   "outputs": [
    {
     "name": "stdout",
     "output_type": "stream",
     "text": [
      "0.20837770678026268 0.20305330038828098\n"
     ]
    }
   ],
   "source": [
    "penalty = {\n",
    "    0: 10,\n",
    "    1: 1\n",
    "}\n",
    "lr = LogisticRegression(class_weight=penalty)\n",
    "predictions = cross_val_predict(lr, features, target, cv=kf)\n",
    "predictions = pd.Series(predictions)\n",
    "\n",
    "tn = len(predictions[(predictions == 0) & (loans['loan_status']==0)])\n",
    "tp = len(predictions[(predictions == 1) & (loans['loan_status']==1)])\n",
    "fn = len(predictions[(predictions == 0) & (loans['loan_status']==1)])\n",
    "fp = len(predictions[(predictions == 1) & (loans[\"loan_status\"] == 0)])\n",
    "fpr = (fp/(fp+tn))\n",
    "tpr = (tp/(tp+fn))\n",
    "print(fpr,tpr)"
   ]
  },
  {
   "cell_type": "code",
   "execution_count": 17,
   "metadata": {
    "collapsed": false
   },
   "outputs": [
    {
     "name": "stdout",
     "output_type": "stream",
     "text": [
      "0.9655662051828185 0.9684080480056477\n"
     ]
    }
   ],
   "source": [
    "from sklearn.ensemble import RandomForestClassifier\n",
    "lr = RandomForestClassifier(class_weight='balanced',random_state = 1)\n",
    "predictions = cross_val_predict(lr, features, target, cv=kf)\n",
    "predictions = pd.Series(predictions)\n",
    "\n",
    "tn = len(predictions[(predictions == 0) & (loans['loan_status']==0)])\n",
    "tp = len(predictions[(predictions == 1) & (loans['loan_status']==1)])\n",
    "fn = len(predictions[(predictions == 0) & (loans['loan_status']==1)])\n",
    "fp = len(predictions[(predictions == 1) & (loans[\"loan_status\"] == 0)])\n",
    "fpr = (fp/(fp+tn))\n",
    "tpr = (tp/(tp+fn))\n",
    "print(fpr,tpr)"
   ]
  },
  {
   "cell_type": "markdown",
   "metadata": {},
   "source": [
    "Unfortunately, using a random forest classifier didn't improve our false positive rate. The model is likely weighting too heavily on the 1 class, and still mostly predicting 1s. We could fix this by applying a harsher penalty for misclassifications of 0s.\n",
    "\n",
    "Ultimately, our best model had a false positive rate of 7%, and a true positive rate of 20%. For a conservative investor, this means that they make money as long as the interest rate is high enough to offset the losses from 7% of borrowers defaulting, and that the pool of 20% of borrowers is large enough to make enough interest money to offset the losses.\n",
    "\n",
    "If we had randomly picked loans to fund, borrowers would have defaulted on 14.5% of them, and our model is better than that, although we're excluding more loans than a random strategy would. Given this, there's still quite a bit of room to improve:\n",
    "\n",
    "* We can tweak the penalties further.\n",
    "* We can try models other than a random forest and logistic regression.\n",
    "* We can use some of the columns we discarded to generate better features.\n",
    "* We can ensemble multiple models to get more accurate predictions.\n",
    "* We can tune the parameters of the algorithm to achieve higher performance."
   ]
  }
 ],
 "metadata": {
  "kernelspec": {
   "display_name": "Python 3",
   "language": "python",
   "name": "python3"
  },
  "language_info": {
   "codemirror_mode": {
    "name": "ipython",
    "version": 3
   },
   "file_extension": ".py",
   "mimetype": "text/x-python",
   "name": "python",
   "nbconvert_exporter": "python",
   "pygments_lexer": "ipython3",
   "version": "3.6.0"
  }
 },
 "nbformat": 4,
 "nbformat_minor": 2
}
